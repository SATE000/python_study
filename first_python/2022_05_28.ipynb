{
 "cells": [
  {
   "cell_type": "code",
   "execution_count": 9,
   "outputs": [
    {
     "name": "stdout",
     "output_type": "stream",
     "text": [
      "{1, 2, 3, 4, 5, 6, 7}\n",
      "{1, 2, 3, 4, 5, 6, 7}\n",
      "{4, 5}\n",
      "{4, 5}\n",
      "{1, 2, 3}\n",
      "{1, 2, 3}\n",
      "['g', 'o', 'o', 'g', 'l', 'e']\n",
      "{'e', 'g', 'o', 'l'}\n"
     ]
    }
   ],
   "source": [
    "#set\n",
    "s1 = {1,2,3,4,5}\n",
    "s2 = {4,5,6,7}\n",
    "\n",
    "print(s1 | s2) #합집합\n",
    "print(s1.union(s2)) #합집합\n",
    "print(s1&s2) #교집합\n",
    "print(s1.intersection(s2)) #교집합\n",
    "print(s1-s2) #차집합\n",
    "print(s1.difference(s2)) #차집합\n",
    "\n",
    "s1.add(8) #하나의 값만 추가할때\n",
    "s1.update([8,9,10]) #다수의 값을 추가할때\n",
    "\n",
    "alphabet = list('google')\n",
    "print(alphabet)\n",
    "print(set(alphabet)) #중복허용불가,순서가없다"
   ],
   "metadata": {
    "collapsed": false,
    "pycharm": {
     "name": "#%%\n"
    }
   }
  },
  {
   "cell_type": "code",
   "execution_count": 12,
   "outputs": [
    {
     "name": "stdout",
     "output_type": "stream",
     "text": [
      "['Calendar', 'EPOCH', 'FRIDAY', 'February', 'HTMLCalendar', 'IllegalMonthError', 'IllegalWeekdayError', 'January', 'LocaleHTMLCalendar', 'LocaleTextCalendar', 'MONDAY', 'SATURDAY', 'SUNDAY', 'THURSDAY', 'TUESDAY', 'TextCalendar', 'WEDNESDAY', '_EPOCH_ORD', '__all__', '__builtins__', '__cached__', '__doc__', '__file__', '__loader__', '__name__', '__package__', '__spec__', '_colwidth', '_locale', '_localized_day', '_localized_month', '_monthlen', '_nextmonth', '_prevmonth', '_spacing', 'c', 'calendar', 'datetime', 'day_abbr', 'day_name', 'different_locale', 'error', 'firstweekday', 'format', 'formatstring', 'isleap', 'leapdays', 'main', 'mdays', 'month', 'month_abbr', 'month_name', 'monthcalendar', 'monthrange', 'prcal', 'prmonth', 'prweek', 'repeat', 'setfirstweekday', 'sys', 'timegm', 'week', 'weekday', 'weekheader']\n",
      "      May 2022\n",
      "Mo Tu We Th Fr Sa Su\n",
      "                   1\n",
      " 2  3  4  5  6  7  8\n",
      " 9 10 11 12 13 14 15\n",
      "16 17 18 19 20 21 22\n",
      "23 24 25 26 27 28 29\n",
      "30 31\n",
      "\n"
     ]
    }
   ],
   "source": [
    "import calendar as cal #as 뒤의 변수는 별칭 ex) random 에서는 rd.randint\n",
    "#from A import B #A의 기능들중에 B의 기능만 불러와 사용한다\n",
    "print(dir(cal))\n",
    "c = cal.TextCalendar()\n",
    "m = c.formatmonth(2022,5)\n",
    "print(m)"
   ],
   "metadata": {
    "collapsed": false,
    "pycharm": {
     "name": "#%%\n"
    }
   }
  },
  {
   "cell_type": "code",
   "execution_count": 176,
   "outputs": [
    {
     "data": {
      "text/plain": "'Hello World\\nPython\\nI need study'"
     },
     "execution_count": 176,
     "metadata": {},
     "output_type": "execute_result"
    }
   ],
   "source": [
    "#파일 입출력\n",
    "f = open('fourth') #해당 파일을 불러온다\n",
    "f.read() #불러온 파일을 읽는다"
   ],
   "metadata": {
    "collapsed": false,
    "pycharm": {
     "name": "#%%\n"
    }
   }
  },
  {
   "cell_type": "code",
   "execution_count": 175,
   "outputs": [
    {
     "data": {
      "text/plain": "'Hello World\\n'"
     },
     "execution_count": 175,
     "metadata": {},
     "output_type": "execute_result"
    }
   ],
   "source": [
    "f = open('fourth')\n",
    "f.readline() #불러온 파일에서 한줄만 읽는다"
   ],
   "metadata": {
    "collapsed": false,
    "pycharm": {
     "name": "#%%\n"
    }
   }
  },
  {
   "cell_type": "code",
   "execution_count": 211,
   "outputs": [
    {
     "name": "stdout",
     "output_type": "stream",
     "text": [
      "['Hello World\\n', 'Python\\n']\n"
     ]
    }
   ],
   "source": [
    "f = open('fourth')\n",
    "lines = f.readlines() #파일을 줄마다 원소로 바꾸어 리스트로 만든다\n",
    "print(lines[:2])"
   ],
   "metadata": {
    "collapsed": false,
    "pycharm": {
     "name": "#%%\n"
    }
   }
  },
  {
   "cell_type": "code",
   "execution_count": 177,
   "outputs": [
    {
     "data": {
      "text/plain": "'name,'"
     },
     "execution_count": 177,
     "metadata": {},
     "output_type": "execute_result"
    }
   ],
   "source": [
    "#파이썬도 리눅스의 rwx 처럼 기능들이 있다\n",
    "letter2 = open('C:\\StudyPython\\letter2.txt','w') #쓰기위한 실행, 경로를 지정해주고 파일이름을 정해준다\n",
    "letter2.write('name,') # 작성\n",
    "letter2.close() #작성종료\n",
    "f2 = open('C:\\StudyPython\\letter2.txt')\n",
    "f2.read()"
   ],
   "metadata": {
    "collapsed": false,
    "pycharm": {
     "name": "#%%\n"
    }
   }
  },
  {
   "cell_type": "code",
   "execution_count": 178,
   "outputs": [
    {
     "data": {
      "text/plain": "'lalala'"
     },
     "execution_count": 178,
     "metadata": {},
     "output_type": "execute_result"
    }
   ],
   "source": [
    "#클래스가 존재한다 def 는 함수이다\n",
    "class singer:\n",
    "    def sing(self):\n",
    "        return 'lalala'\n",
    "\n",
    "psy = singer()\n",
    "psy.sing()"
   ],
   "metadata": {
    "collapsed": false,
    "pycharm": {
     "name": "#%%\n"
    }
   }
  },
  {
   "cell_type": "code",
   "execution_count": 179,
   "outputs": [
    {
     "name": "stdout",
     "output_type": "stream",
     "text": [
      "정수를 입력받아서 3을 곱한 값을 출력하는 계산기\n"
     ]
    },
    {
     "ename": "ValueError",
     "evalue": "invalid literal for int() with base 10: 'd'",
     "output_type": "error",
     "traceback": [
      "\u001B[1;31m---------------------------------------------------------------------------\u001B[0m",
      "\u001B[1;31mValueError\u001B[0m                                Traceback (most recent call last)",
      "\u001B[1;32m~\\AppData\\Local\\Temp/ipykernel_15028/2791294008.py\u001B[0m in \u001B[0;36m<module>\u001B[1;34m\u001B[0m\n\u001B[0;32m      1\u001B[0m \u001B[1;31m#에러 잡기\u001B[0m\u001B[1;33m\u001B[0m\u001B[1;33m\u001B[0m\u001B[0m\n\u001B[0;32m      2\u001B[0m \u001B[0mprint\u001B[0m\u001B[1;33m(\u001B[0m\u001B[1;34m'정수를 입력받아서 3을 곱한 값을 출력하는 계산기'\u001B[0m\u001B[1;33m)\u001B[0m\u001B[1;33m\u001B[0m\u001B[1;33m\u001B[0m\u001B[0m\n\u001B[1;32m----> 3\u001B[1;33m \u001B[0mInputNum\u001B[0m \u001B[1;33m=\u001B[0m \u001B[0mint\u001B[0m\u001B[1;33m(\u001B[0m\u001B[0minput\u001B[0m\u001B[1;33m(\u001B[0m\u001B[1;34m'정수를 입력하세요'\u001B[0m\u001B[1;33m)\u001B[0m\u001B[1;33m)\u001B[0m\u001B[1;33m\u001B[0m\u001B[1;33m\u001B[0m\u001B[0m\n\u001B[0m\u001B[0;32m      4\u001B[0m \u001B[0mprint\u001B[0m\u001B[1;33m(\u001B[0m\u001B[0mInputNum\u001B[0m \u001B[1;33m*\u001B[0m \u001B[1;36m3\u001B[0m\u001B[1;33m)\u001B[0m\u001B[1;33m\u001B[0m\u001B[1;33m\u001B[0m\u001B[0m\n",
      "\u001B[1;31mValueError\u001B[0m: invalid literal for int() with base 10: 'd'"
     ]
    }
   ],
   "source": [
    "#에러 잡기\n",
    "print('정수를 입력받아서 3을 곱한 값을 출력하는 계산기')\n",
    "InputNum = int(input('정수를 입력하세요'))\n",
    "print(InputNum * 3)"
   ],
   "metadata": {
    "collapsed": false,
    "pycharm": {
     "name": "#%%\n"
    }
   }
  },
  {
   "cell_type": "code",
   "execution_count": 180,
   "outputs": [
    {
     "name": "stdout",
     "output_type": "stream",
     "text": [
      "정수를 입력받아서 3을 곱한 값을 출력하는 계산기\n",
      "정수를 입력하세요\n"
     ]
    }
   ],
   "source": [
    "print('정수를 입력받아서 3을 곱한 값을 출력하는 계산기')\n",
    "InputNum = input('정수를 입력하세요')\n",
    "if not InputNum.isnumeric(): #입력받은것이 숫자인지 확인한다\n",
    "    print('정수를 입력하세요')\n",
    "else:\n",
    "    InputNum = int(InputNum)\n",
    "    print(InputNum*3)"
   ],
   "metadata": {
    "collapsed": false,
    "pycharm": {
     "name": "#%%\n"
    }
   }
  },
  {
   "cell_type": "code",
   "execution_count": 185,
   "outputs": [
    {
     "name": "stdout",
     "output_type": "stream",
     "text": [
      "정수를 입력받아서 3을 곱한 값을 출력하는 계산기\n",
      "135\n"
     ]
    }
   ],
   "source": [
    "#assert A,B\n",
    "#C A가 거짓일때 B를 실행하고 참이면 C를 실행한다.\n",
    "#assert 1 < 0 , '1이 0보다 큽니다'\n",
    "\n",
    "print('정수를 입력받아서 3을 곱한 값을 출력하는 계산기')\n",
    "InputNum = input('정수를 입력하세요')\n",
    "assert InputNum.isnumeric(), '정수를 입력하세요 입력하신 값은 {}'.format(InputNum)\n",
    "InputNum = int(InputNum)\n",
    "print(InputNum*3)\n",
    "\n",
    "#오류해결방법은 서칭해보는것도 좋다"
   ],
   "metadata": {
    "collapsed": false,
    "pycharm": {
     "name": "#%%\n"
    }
   }
  }
 ],
 "metadata": {
  "kernelspec": {
   "display_name": "Python 3",
   "language": "python",
   "name": "python3"
  },
  "language_info": {
   "codemirror_mode": {
    "name": "ipython",
    "version": 2
   },
   "file_extension": ".py",
   "mimetype": "text/x-python",
   "name": "python",
   "nbconvert_exporter": "python",
   "pygments_lexer": "ipython2",
   "version": "2.7.6"
  }
 },
 "nbformat": 4,
 "nbformat_minor": 0
}