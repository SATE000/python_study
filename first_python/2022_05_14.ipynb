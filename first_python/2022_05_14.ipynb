{
 "cells": [
  {
   "cell_type": "code",
   "execution_count": 2,
   "metadata": {
    "collapsed": true,
    "pycharm": {
     "name": "#%%\n"
    }
   },
   "outputs": [
    {
     "name": "stdout",
     "output_type": "stream",
     "text": [
      "홍길동\n",
      "23\n"
     ]
    }
   ],
   "source": [
    "#dictionary\n",
    "personal = {\n",
    "    'name':'홍길동',\n",
    "    'age':'23',\n",
    "    'weight': '85'\n",
    "}\n",
    "print(personal['name'])\n",
    "print(personal['age'])"
   ]
  },
  {
   "cell_type": "code",
   "execution_count": 6,
   "outputs": [
    {
     "name": "stdout",
     "output_type": "stream",
     "text": [
      "{'name': 'kocoma', 'weight': 85}\n"
     ]
    }
   ],
   "source": [
    "personal = {}\n",
    "personal['name']='kocoma'\n",
    "personal['age']=31\n",
    "personal['weight']=85\n",
    "\n",
    "del personal['age']\n",
    "print(personal)"
   ],
   "metadata": {
    "collapsed": false,
    "pycharm": {
     "name": "#%%\n"
    }
   }
  },
  {
   "cell_type": "code",
   "execution_count": 21,
   "outputs": [
    {
     "name": "stdout",
     "output_type": "stream",
     "text": [
      "name\n",
      "weight\n",
      "name\n",
      "weight\n",
      "key =  name\n",
      "kocoma\n",
      "key =  weight\n",
      "85\n"
     ]
    }
   ],
   "source": [
    "for  key in personal:\n",
    "    print(key)\n",
    "\n",
    "for value in personal:\n",
    "    print(value)\n",
    "\n",
    "for key,value in personal.items():\n",
    "    print('key = ',key)\n",
    "    print(value)"
   ],
   "metadata": {
    "collapsed": false,
    "pycharm": {
     "name": "#%%\n"
    }
   }
  },
  {
   "cell_type": "code",
   "execution_count": 13,
   "outputs": [
    {
     "name": "stdout",
     "output_type": "stream",
     "text": [
      "1\n",
      "None\n",
      "dict_keys(['x', 'y', 'z'])\n",
      "{'x': 1, 'y': 2, 'z': 3}\n"
     ]
    }
   ],
   "source": [
    "a = { 'x':1, 'y':2 }\n",
    "b = { 'z':3}\n",
    "\n",
    "print(a.get('x'))\n",
    "print(a.get('a'))\n",
    "\n",
    "a.update(b)\n",
    "print(a.keys())\n",
    "print(a)"
   ],
   "metadata": {
    "collapsed": false,
    "pycharm": {
     "name": "#%%\n"
    }
   }
  },
  {
   "cell_type": "code",
   "execution_count": 29,
   "outputs": [
    {
     "name": "stdout",
     "output_type": "stream",
     "text": [
      "{'x': 1, 'y': 2, 'z': 3}\n",
      "{3, (1, 3), 5, '1'}\n",
      "<class 'set'>\n",
      "{1, 2, 3, 4}\n"
     ]
    }
   ],
   "source": [
    "#집합\n",
    "#{}\n",
    "s = {3,5,7}\n",
    "s1 = {'1',3,5,(1,3)}\n",
    "s2={}\n",
    "s2 = set([1,1,1,1,1,1,1,1,2,2,2,2,2,2,3,3,3,3,3,2,3,4])\n",
    "\n",
    "#set은 중복을 허용하지 않음. 중복된 값이 입력되어도 자동으로 중복이 제거되고 출력됨.\n",
    "type(s)\n",
    "print(a)\n",
    "print(s1)\n",
    "print(type(s2))\n",
    "print(s2)"
   ],
   "metadata": {
    "collapsed": false,
    "pycharm": {
     "name": "#%%\n"
    }
   }
  },
  {
   "cell_type": "code",
   "execution_count": 33,
   "outputs": [
    {
     "data": {
      "text/plain": "False"
     },
     "execution_count": 33,
     "metadata": {},
     "output_type": "execute_result"
    }
   ],
   "source": [
    "1 not in s2\n",
    "1 in s2\n",
    "5 in s2"
   ],
   "metadata": {
    "collapsed": false,
    "pycharm": {
     "name": "#%%\n"
    }
   }
  },
  {
   "cell_type": "code",
   "execution_count": 46,
   "outputs": [
    {
     "name": "stdout",
     "output_type": "stream",
     "text": [
      "{130, 102, 50, 150}\n",
      "{130, 150, 50, 102}\n"
     ]
    }
   ],
   "source": [
    "s3 = {100,150}\n",
    "s3.add(50)\n",
    "s3.update([50,102,130])\n",
    "s3.remove(100)\n",
    "s3.discard(20)\n",
    "s4 = s3.copy()\n",
    "s4=set(s3)\n",
    "print(s3)\n",
    "print(s4)"
   ],
   "metadata": {
    "collapsed": false,
    "pycharm": {
     "name": "#%%\n"
    }
   }
  },
  {
   "cell_type": "code",
   "execution_count": 53,
   "outputs": [
    {
     "name": "stdout",
     "output_type": "stream",
     "text": [
      "{1, 2, 3, 4, 5, 6, 7}\n",
      "{1, 2, 3, 4, 5, 6, 7}\n"
     ]
    }
   ],
   "source": [
    "a = {1,2,3,4,5}\n",
    "b = {3,4,5,6,7}\n",
    "#c = a | b\n",
    "#a |= b\n",
    "#print(c)\n",
    "print(a)"
   ],
   "metadata": {
    "collapsed": false,
    "pycharm": {
     "name": "#%%\n"
    }
   }
  },
  {
   "cell_type": "code",
   "execution_count": 59,
   "outputs": [
    {
     "name": "stdout",
     "output_type": "stream",
     "text": [
      "True\n",
      "False\n",
      "{1, 2, 3, 4, 5, 6, 7}\n",
      "{3, 4, 5, 6, 7}\n",
      "{1, 2}\n",
      "{1, 2}\n"
     ]
    }
   ],
   "source": [
    "c = a.union(b)\n",
    "d = a.intersection(b)\n",
    "e = a.difference(b)\n",
    "f = a.symmetric_difference(b)\n",
    "\n",
    "#부분집합\n",
    "print(a.issuperset(b))\n",
    "print(a.isdisjoint(b))\n",
    "print(c)\n",
    "print(d)\n",
    "print(e)\n",
    "print(f)"
   ],
   "metadata": {
    "collapsed": false,
    "pycharm": {
     "name": "#%%\n"
    }
   }
  },
  {
   "cell_type": "code",
   "execution_count": 77,
   "outputs": [
    {
     "name": "stdout",
     "output_type": "stream",
     "text": [
      "['13', 1, 2, 3, 4, 5, 6, 7, 8, 9, 10]\n"
     ]
    }
   ],
   "source": [
    "#list\n",
    "a = [1,'a', 3.0,(1,2)]\n",
    "a = []\n",
    "a = list()\n",
    "a1 = [1,2,3,4,5,6,7,8,8,9,10]\n",
    "a1[10]\n",
    "a1[0] = '13'\n",
    "a1.insert(1,1)\n",
    "a1.append(a1[-1])\n",
    "del a1[9]\n",
    "del a1[11]\n",
    "print(a1)\n"
   ],
   "metadata": {
    "collapsed": false,
    "pycharm": {
     "name": "#%%\n"
    }
   }
  },
  {
   "cell_type": "code",
   "execution_count": 85,
   "outputs": [
    {
     "name": "stdout",
     "output_type": "stream",
     "text": [
      "(1, 0, 2, 3, 4, 6212, 23)\n",
      "True\n",
      "7\n",
      "x\n",
      "y\n",
      "z\n"
     ]
    }
   ],
   "source": [
    "a = (1,2,3,4)\n",
    "a1 = (1,0,2,3,4,6212,23)\n",
    "str1 = 'xyz'\n",
    "str1[0]\n",
    "a[0]\n",
    "print(a1)\n",
    "print(1 in a1)\n",
    "print(len(a1))\n",
    "print(str1[0])\n",
    "print(str1[1])\n",
    "print(str1[2])"
   ],
   "metadata": {
    "collapsed": false,
    "pycharm": {
     "name": "#%%\n"
    }
   }
  },
  {
   "cell_type": "code",
   "execution_count": 87,
   "outputs": [
    {
     "name": "stdout",
     "output_type": "stream",
     "text": [
      "1\n",
      "1\n",
      "1\n"
     ]
    }
   ],
   "source": [
    "String = 'apple vs samsung'\n",
    "tuple_object = (1,2,3,4)\n",
    "list_object = [1,2,3,4]\n",
    "\n",
    "print(String[0])\n",
    "print(tuple_object[0])\n",
    "print(list_object[0])"
   ],
   "metadata": {
    "collapsed": false,
    "pycharm": {
     "name": "#%%\n"
    }
   }
  },
  {
   "cell_type": "code",
   "execution_count": 93,
   "outputs": [
    {
     "name": "stdout",
     "output_type": "stream",
     "text": [
      "1,2,3\n"
     ]
    }
   ],
   "source": [
    "list_object[slice(0,2)]\n",
    "print(String[0:5])\n",
    "#slice(Start,end,step)"
   ],
   "metadata": {
    "collapsed": false,
    "pycharm": {
     "name": "#%%\n"
    }
   }
  },
  {
   "cell_type": "code",
   "execution_count": null,
   "outputs": [],
   "source": [],
   "metadata": {
    "collapsed": false,
    "pycharm": {
     "name": "#%%\n"
    }
   }
  }
 ],
 "metadata": {
  "kernelspec": {
   "display_name": "Python 3",
   "language": "python",
   "name": "python3"
  },
  "language_info": {
   "codemirror_mode": {
    "name": "ipython",
    "version": 2
   },
   "file_extension": ".py",
   "mimetype": "text/x-python",
   "name": "python",
   "nbconvert_exporter": "python",
   "pygments_lexer": "ipython2",
   "version": "2.7.6"
  }
 },
 "nbformat": 4,
 "nbformat_minor": 0
}