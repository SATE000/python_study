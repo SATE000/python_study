{
 "cells": [
  {
   "cell_type": "code",
   "execution_count": 1,
   "metadata": {
    "collapsed": true,
    "pycharm": {
     "name": "#%%\n"
    }
   },
   "outputs": [
    {
     "name": "stdout",
     "output_type": "stream",
     "text": [
      "Hello World\n"
     ]
    }
   ],
   "source": [
    "print('Hello World')"
   ]
  },
  {
   "cell_type": "code",
   "execution_count": null,
   "outputs": [],
   "source": [
    "a=2\n",
    "b=2.0\n",
    "c='문'\n",
    "type(a)"
   ],
   "metadata": {
    "collapsed": false,
    "pycharm": {
     "name": "#%%\n"
    }
   }
  },
  {
   "cell_type": "code",
   "execution_count": 5,
   "outputs": [
    {
     "name": "stdout",
     "output_type": "stream",
     "text": [
      "sum =  300\n"
     ]
    }
   ],
   "source": [
    "x = 100\n",
    "y = 200\n",
    "sum = x + y\n",
    "print ('sum = ',sum)"
   ],
   "metadata": {
    "collapsed": false,
    "pycharm": {
     "name": "#%%\n"
    }
   }
  },
  {
   "cell_type": "code",
   "execution_count": 25,
   "outputs": [
    {
     "name": "stdout",
     "output_type": "stream",
     "text": [
      "광년 :  0.0004227972264501945\n"
     ]
    }
   ],
   "source": [
    "light = 300000\n",
    "distance = 4000000000\n",
    "sec = distance / light\n",
    "lightyear = sec / (60.0*60.0*24.0*365.0)\n",
    "print ('광년 : ',lightyear)"
   ],
   "metadata": {
    "collapsed": false,
    "pycharm": {
     "name": "#%%\n"
    }
   }
  },
  {
   "cell_type": "code",
   "execution_count": 26,
   "outputs": [
    {
     "name": "stdout",
     "output_type": "stream",
     "text": [
      "BTW\n"
     ]
    }
   ],
   "source": [
    "a = 'By'\n",
    "b = 'The'\n",
    "c = 'Way'\n",
    "print(a[0]+b[0]+c[0])"
   ],
   "metadata": {
    "collapsed": false,
    "pycharm": {
     "name": "#%%\n"
    }
   }
  },
  {
   "cell_type": "code",
   "execution_count": 28,
   "outputs": [
    {
     "name": "stdout",
     "output_type": "stream",
     "text": [
      "오늘 서울 에서 야구가 열렸습니다.\n",
      " 삼성 과 LG  은 치열한 공방전을 벌였습니다.\n",
      " 홍길동 가 맹활약을 하였습니다.\n",
      " 결국  삼성 가 LG 를 8:7 로 이겼습니다.\n"
     ]
    }
   ],
   "source": [
    "stadium = input('경기장은 어디입니까?')\n",
    "winner = input('이긴팀은 어디입니까?')\n",
    "loser = input('진팀은 어디입니까?')\n",
    "mvp = input('우수선수는 누구입니까?')\n",
    "score = input('스코어는 몇대몇입니까?')\n",
    "print('오늘',stadium,'에서 야구가 열렸습니다.\\n',winner,'과',loser,' 은 치열한 공방전을 벌였습니다.\\n',mvp,'가 맹활약을 하였습니다.\\n 결국 ', winner,'가', loser, '를' , score,'로 이겼습니다.')"
   ],
   "metadata": {
    "collapsed": false,
    "pycharm": {
     "name": "#%%\n"
    }
   }
  },
  {
   "cell_type": "code",
   "execution_count": 30,
   "outputs": [
    {
     "name": "stdout",
     "output_type": "stream",
     "text": [
      "===입력금액===\n",
      "===거스름돈 출력===\n",
      "500원 :  0 \t100원 :  2 \t10원 :  5 \t1원 :  0\n"
     ]
    }
   ],
   "source": [
    "price = (int)(input('물건값을 입력하시오 : '))\n",
    "print('===입력금액===')\n",
    "tha = (int)(input('1000원의 지폐갯수:'))\n",
    "fhun = (int)(input('500원의 동전갯수:'))\n",
    "hun = (int)(input('100원의 동전갯수:'))\n",
    "sum = (tha*1000) + (fhun * 500) + (hun*100)\n",
    "give = sum - price\n",
    "give_fh = (int)(give / 500)\n",
    "give_h = (int)((give % 500) / 100)\n",
    "give_t = (int)((give % 100) / 10)\n",
    "give_o = give % 10\n",
    "print('===거스름돈 출력===')\n",
    "print('500원 : ',give_fh,'\\t100원 : ',give_h,'\\t10원 : ',give_t,'\\t1원 : ',give_o)"
   ],
   "metadata": {
    "collapsed": false,
    "pycharm": {
     "name": "#%%\n"
    }
   }
  }
 ],
 "metadata": {
  "kernelspec": {
   "display_name": "Python 3",
   "language": "python",
   "name": "python3"
  },
  "language_info": {
   "codemirror_mode": {
    "name": "ipython",
    "version": 2
   },
   "file_extension": ".py",
   "mimetype": "text/x-python",
   "name": "python",
   "nbconvert_exporter": "python",
   "pygments_lexer": "ipython2",
   "version": "2.7.6"
  }
 },
 "nbformat": 4,
 "nbformat_minor": 0
}